{
 "cells": [
  {
   "cell_type": "markdown",
   "metadata": {},
   "source": [
    "# Notebook 2: Test Features (No API)\n",
    "\n",
    "This notebook lets you test the core features directly, without running the API server.\n",
    "\n",
    "**You'll learn**: How Excel files are flattened, normalized, and compared."
   ]
  },
  {
   "cell_type": "markdown",
   "metadata": {},
   "source": [
    "## Setup: Import Everything We Need"
   ]
  },
  {
   "cell_type": "code",
   "execution_count": null,
   "metadata": {},
   "outputs": [],
   "source": [
    "# Add project to path\n",
    "import sys\n",
    "from pathlib import Path\n",
    "\n",
    "project_root = Path.cwd().parent if Path.cwd().name == 'snippets' else Path.cwd()\n",
    "if str(project_root) not in sys.path:\n",
    "    sys.path.insert(0, str(project_root))\n",
    "\n",
    "print(f\"✅ Working from: {project_root}\")"
   ]
  },
  {
   "cell_type": "markdown",
   "metadata": {},
   "source": [
    "## Part 1: Create a Test Excel File\n",
    "\n",
    "Let's create a simple Excel file to work with."
   ]
  },
  {
   "cell_type": "code",
   "execution_count": null,
   "metadata": {},
   "outputs": [],
   "source": [
    "from openpyxl import Workbook\n",
    "from openpyxl.styles import Font, PatternFill\n",
    "from openpyxl.comments import Comment\n",
    "\n",
    "# Create a new workbook\n",
    "wb = Workbook()\n",
    "ws = wb.active\n",
    "ws.title = \"Sales Data\"\n",
    "\n",
    "# Add headers with formatting\n",
    "headers = ['Product', 'Price', 'Quantity', 'Total']\n",
    "for col, header in enumerate(headers, 1):\n",
    "    cell = ws.cell(row=1, column=col, value=header)\n",
    "    cell.font = Font(bold=True, color=\"FFFFFF\")\n",
    "    cell.fill = PatternFill(start_color=\"4472C4\", end_color=\"4472C4\", fill_type=\"solid\")\n",
    "\n",
    "# Add some data\n",
    "ws['A2'] = 'Widget'\n",
    "ws['B2'] = 10.50\n",
    "ws['C2'] = 5\n",
    "ws['D2'] = '=B2*C2'  # Formula!\n",
    "\n",
    "ws['A3'] = 'Gadget'\n",
    "ws['B3'] = 25.00\n",
    "ws['C3'] = 3\n",
    "ws['D3'] = '=B3*C3'  # Formula!\n",
    "\n",
    "# Add a total row\n",
    "ws['A4'] = 'TOTAL'\n",
    "ws['D4'] = '=SUM(D2:D3)'  # Formula!\n",
    "ws['D4'].font = Font(bold=True)\n",
    "\n",
    "# Add a comment\n",
    "ws['D4'].comment = Comment('This is the total sales', 'Excel Bot')\n",
    "\n",
    "# Add a second sheet\n",
    "ws2 = wb.create_sheet(\"Summary\")\n",
    "ws2['A1'] = 'Summary'\n",
    "ws2['A2'] = 'Total Sales:'\n",
    "ws2['B2'] = '=\\'Sales Data\\'!D4'  # Reference to other sheet!\n",
    "\n",
    "# Save it\n",
    "test_file = Path('/workspaces/excel-differ/tmp/test_workbook.xlsx')\n",
    "wb.save(test_file)\n",
    "\n",
    "print(f\"✅ Created test Excel file: {test_file}\")\n",
    "print(f\"   - 2 sheets\")\n",
    "print(f\"   - Formulas (SUM, multiplication, cross-sheet reference)\")\n",
    "print(f\"   - Formatting (bold, colors)\")\n",
    "print(f\"   - Comments\")"
   ]
  },
  {
   "cell_type": "markdown",
   "metadata": {},
   "source": [
    "## Part 2: Test Formula Normalization\n",
    "\n",
    "See how formulas are normalized to be deterministic."
   ]
  },
  {
   "cell_type": "code",
   "execution_count": null,
   "metadata": {},
   "outputs": [],
   "source": [
    "from src.engine.flattener.normalizer import normalize_formula\n",
    "\n",
    "test_formulas = [\n",
    "    \"=sum(A1:A10)\",              # lowercase function\n",
    "    \"= SUM(A1:A10) \",            # extra spaces\n",
    "    \"=Sum(A1:A10)\",              # mixed case\n",
    "    \"=average(B1:B5)\",           # another function\n",
    "    \"=IF(C1>100, \\\"High\\\", \\\"Low\\\")\",  # complex formula\n",
    "]\n",
    "\n",
    "print(\"Formula Normalization Examples:\\n\")\n",
    "print(\"=\"*70)\n",
    "\n",
    "for formula in test_formulas:\n",
    "    normalized = normalize_formula(formula)\n",
    "    print(f\"Input:  {formula:40s}\")\n",
    "    print(f\"Output: {normalized:40s}\")\n",
    "    print(\"-\"*70)"
   ]
  },
  {
   "cell_type": "markdown",
   "metadata": {},
   "source": [
    "## Part 3: Test Number Normalization\n",
    "\n",
    "Numbers are normalized to 15 significant digits (Excel's precision)."
   ]
  },
  {
   "cell_type": "code",
   "execution_count": null,
   "metadata": {},
   "outputs": [],
   "source": [
    "from src.engine.flattener.normalizer import normalize_number\n",
    "\n",
    "test_numbers = [\n",
    "    123,\n",
    "    123.456,\n",
    "    123.456789012345678,  # More than 15 digits\n",
    "    0.00000123,\n",
    "    1e10,\n",
    "    \"1,234.56\",  # String with formatting\n",
    "]\n",
    "\n",
    "print(\"Number Normalization Examples:\\n\")\n",
    "print(\"=\"*70)\n",
    "\n",
    "for num in test_numbers:\n",
    "    normalized = normalize_number(num)\n",
    "    print(f\"Input:  {str(num):25s} ({type(num).__name__})\")\n",
    "    print(f\"Output: {normalized:25s}\")\n",
    "    print(\"-\"*70)"
   ]
  },
  {
   "cell_type": "markdown",
   "metadata": {},
   "source": [
    "## Part 4: Flatten the Test Excel File\n",
    "\n",
    "**This is the main operation!** Converting Excel → Text files."
   ]
  },
  {
   "cell_type": "code",
   "execution_count": null,
   "metadata": {},
   "outputs": [],
   "source": [
    "from src.engine.flattener.workbook import WorkbookFlattener\n",
    "\n",
    "# Create flattener\n",
    "flattener = WorkbookFlattener(include_evaluated=False)\n",
    "\n",
    "# Flatten the test file we created\n",
    "print(\"Flattening test_workbook.xlsx...\\n\")\n",
    "\n",
    "result = flattener.flatten(\n",
    "    input_file=test_file,\n",
    "    output_dir=Path('/workspaces/excel-differ/tmp/excel-differ-test')\n",
    ")\n",
    "\n",
    "snapshot_dir = result['snapshot_dir']\n",
    "manifest = result['manifest']\n",
    "\n",
    "print(f\"✅ Flattening complete!\\n\")\n",
    "print(f\"Snapshot location: {snapshot_dir}\\n\")\n",
    "print(f\"Manifest info:\")\n",
    "print(f\"  Filename: {manifest.workbook_filename}\")\n",
    "print(f\"  SHA256: {manifest.original_sha256[:16]}...\")\n",
    "print(f\"  Sheets: {len(manifest.sheets)}\")\n",
    "\n",
    "for sheet in manifest.sheets:\n",
    "    vis = \"Visible\" if sheet['visible'] else \"Hidden\"\n",
    "    print(f\"    - {sheet['name']} ({vis})\")\n",
    "\n",
    "if result['warnings']:\n",
    "    print(f\"\\n⚠️ Warnings: {result['warnings']}\")"
   ]
  },
  {
   "cell_type": "markdown",
   "metadata": {},
   "source": [
    "## Part 5: Explore the Flattened Output\n",
    "\n",
    "Let's see what files were created!"
   ]
  },
  {
   "cell_type": "code",
   "execution_count": null,
   "metadata": {},
   "outputs": [],
   "source": [
    "import os\n",
    "\n",
    "print(f\"Files created in snapshot:\\n\")\n",
    "print(\"=\"*70)\n",
    "\n",
    "for root, dirs, files in os.walk(snapshot_dir):\n",
    "    level = root.replace(str(snapshot_dir), '').count(os.sep)\n",
    "    indent = ' ' * 2 * level\n",
    "    folder_name = os.path.basename(root) or snapshot_dir.name\n",
    "    print(f\"{indent}📁 {folder_name}/\")\n",
    "    \n",
    "    subindent = ' ' * 2 * (level + 1)\n",
    "    for file in sorted(files):\n",
    "        file_path = Path(root) / file\n",
    "        size = file_path.stat().st_size\n",
    "        print(f\"{subindent}📄 {file} ({size} bytes)\")"
   ]
  },
  {
   "cell_type": "markdown",
   "metadata": {},
   "source": [
    "## Part 6: Look at Extracted Formulas\n",
    "\n",
    "See what the formula file looks like."
   ]
  },
  {
   "cell_type": "code",
   "execution_count": null,
   "metadata": {},
   "outputs": [],
   "source": [
    "# Find the formulas file for first sheet\n",
    "formulas_file = list(snapshot_dir.glob(\"sheets/*formulas.txt\"))[0]\n",
    "\n",
    "print(f\"Contents of: {formulas_file.name}\\n\")\n",
    "print(\"=\"*70)\n",
    "\n",
    "with open(formulas_file, 'r') as f:\n",
    "    content = f.read()\n",
    "    print(content)\n",
    "\n",
    "print(\"=\"*70)\n",
    "print(\"\\nNotice:\")\n",
    "print(\"  - Formulas are UPPERCASE (normalized)\")\n",
    "print(\"  - Cell addresses in column 1\")\n",
    "print(\"  - Tab-separated\")\n",
    "print(\"  - Sorted by cell address\")"
   ]
  },
  {
   "cell_type": "markdown",
   "metadata": {},
   "source": [
    "## Part 7: Look at Extracted Values\n",
    "\n",
    "See what the hardcoded values file looks like."
   ]
  },
  {
   "cell_type": "code",
   "execution_count": null,
   "metadata": {},
   "outputs": [],
   "source": [
    "# Find the values file\n",
    "values_file = list(snapshot_dir.glob(\"sheets/*values_hardcoded.txt\"))[0]\n",
    "\n",
    "print(f\"Contents of: {values_file.name}\\n\")\n",
    "print(\"=\"*70)\n",
    "\n",
    "with open(values_file, 'r') as f:\n",
    "    content = f.read()\n",
    "    print(content)\n",
    "\n",
    "print(\"=\"*70)\n",
    "print(\"\\nNotice:\")\n",
    "print(\"  - Only non-formula cells (hard-coded values)\")\n",
    "print(\"  - Numbers, strings, etc.\")\n",
    "print(\"  - Same tab-separated format\")"
   ]
  },
  {
   "cell_type": "markdown",
   "metadata": {},
   "source": [
    "## Part 8: Look at the Manifest\n",
    "\n",
    "The manifest.json contains all metadata."
   ]
  },
  {
   "cell_type": "code",
   "execution_count": null,
   "metadata": {},
   "outputs": [],
   "source": [
    "import json\n",
    "\n",
    "manifest_file = snapshot_dir / \"manifest.json\"\n",
    "\n",
    "print(\"Manifest contents:\\n\")\n",
    "print(\"=\"*70)\n",
    "\n",
    "with open(manifest_file, 'r') as f:\n",
    "    manifest_data = json.load(f)\n",
    "    print(json.dumps(manifest_data, indent=2))\n",
    "\n",
    "print(\"\\n\" + \"=\"*70)\n",
    "print(\"The manifest lists:\")\n",
    "print(\"  - All sheets\")\n",
    "print(\"  - All files with their SHA256 hashes\")\n",
    "print(\"  - Extraction metadata\")\n",
    "print(\"  - Any warnings\")"
   ]
  },
  {
   "cell_type": "markdown",
   "metadata": {},
   "source": [
    "## Part 9: Modify the Excel File\n",
    "\n",
    "Let's change something and create version 2."
   ]
  },
  {
   "cell_type": "code",
   "execution_count": null,
   "metadata": {},
   "outputs": [],
   "source": [
    "from openpyxl import load_workbook\n",
    "\n",
    "# Load the original file\n",
    "wb = load_workbook(test_file)\n",
    "ws = wb['Sales Data']\n",
    "\n",
    "# Make some changes\n",
    "ws['B2'] = 12.00  # Change price\n",
    "ws['C2'] = 10     # Change quantity\n",
    "\n",
    "# Add a new row\n",
    "ws['A5'] = 'Doodad'\n",
    "ws['B5'] = 5.00\n",
    "ws['C5'] = 20\n",
    "ws['D5'] = '=B5*C5'\n",
    "\n",
    "# Update total formula\n",
    "ws['D4'] = '=SUM(D2:D5)'\n",
    "\n",
    "# Save as version 2\n",
    "test_file_v2 = Path('/workspaces/excel-differ/tmp/test_workbook_v2.xlsx')\n",
    "wb.save(test_file_v2)\n",
    "\n",
    "print(f\"✅ Created modified version: {test_file_v2}\")\n",
    "print(\"\\nChanges made:\")\n",
    "print(\"  - Changed Widget price: 10.50 → 12.00\")\n",
    "print(\"  - Changed Widget quantity: 5 → 10\")\n",
    "print(\"  - Added new product: Doodad\")\n",
    "print(\"  - Updated total formula\")"
   ]
  },
  {
   "cell_type": "markdown",
   "metadata": {},
   "source": [
    "## Part 10: Flatten Version 2"
   ]
  },
  {
   "cell_type": "code",
   "execution_count": null,
   "metadata": {},
   "outputs": [],
   "source": [
    "# Flatten version 2\n",
    "print(\"Flattening version 2...\\n\")\n",
    "\n",
    "result_v2 = flattener.flatten(\n",
    "    input_file=test_file_v2,\n",
    "    output_dir=Path('/workspaces/excel-differ/tmp/excel-differ-test')\n",
    ")\n",
    "\n",
    "snapshot_dir_v2 = result_v2['snapshot_dir']\n",
    "\n",
    "print(f\"✅ Version 2 flattened!\")\n",
    "print(f\"   V1: {snapshot_dir.name}\")\n",
    "print(f\"   V2: {snapshot_dir_v2.name}\")"
   ]
  },
  {
   "cell_type": "markdown",
   "metadata": {},
   "source": [
    "## Part 11: Compare the Two Versions\n",
    "\n",
    "**This is the diff engine in action!**"
   ]
  },
  {
   "cell_type": "code",
   "execution_count": null,
   "metadata": {},
   "outputs": [],
   "source": [
    "from src.engine.differ.compare import SnapshotComparison\n",
    "from src.engine.differ.diff_json import generate_json_diff\n",
    "\n",
    "# Create comparison\n",
    "print(\"Comparing V1 and V2...\\n\")\n",
    "\n",
    "comparison = SnapshotComparison(snapshot_dir, snapshot_dir_v2)\n",
    "\n",
    "# Get file-level changes\n",
    "changes = comparison.get_changed_files()\n",
    "\n",
    "print(\"File-level changes:\")\n",
    "print(f\"  Added files: {len(changes['added'])}\")\n",
    "print(f\"  Removed files: {len(changes['removed'])}\")\n",
    "print(f\"  Modified files: {len(changes['modified'])}\")\n",
    "\n",
    "if changes['modified']:\n",
    "    print(f\"\\nModified files:\")\n",
    "    for file in changes['modified']:\n",
    "        print(f\"  - {file}\")"
   ]
  },
  {
   "cell_type": "markdown",
   "metadata": {},
   "source": [
    "## Part 12: Generate Structured Diff\n",
    "\n",
    "Get a detailed, typed diff showing exactly what changed."
   ]
  },
  {
   "cell_type": "code",
   "execution_count": null,
   "metadata": {},
   "outputs": [],
   "source": [
    "# Generate structured diff\n",
    "diff_result = generate_json_diff(comparison)\n",
    "\n",
    "print(\"Structured Diff Summary:\\n\")\n",
    "print(\"=\"*70)\n",
    "\n",
    "for key, count in diff_result['summary'].items():\n",
    "    if count > 0:\n",
    "        print(f\"{key}: {count}\")\n",
    "\n",
    "print(\"\\n\" + \"=\"*70)\n",
    "print(\"\\nDetailed Changes:\\n\")\n",
    "\n",
    "for change in diff_result['diff_json'][:20]:  # Show first 20 changes\n",
    "    print(json.dumps(change, indent=2))\n",
    "    print(\"-\"*70)"
   ]
  },
  {
   "cell_type": "markdown",
   "metadata": {},
   "source": [
    "## ✅ You Did It!\n",
    "\n",
    "**What you learned:**\n",
    "1. ✅ How formulas and numbers are normalized\n",
    "2. ✅ How Excel files are flattened into text files\n",
    "3. ✅ What the snapshot directory structure looks like\n",
    "4. ✅ How to compare two snapshots\n",
    "5. ✅ How to get structured diff output\n",
    "\n",
    "**Next step**: Open `03_test_api.ipynb` to test the REST API!"
   ]
  }
 ],
 "metadata": {
  "kernelspec": {
   "display_name": "venv (3.12.1)",
   "language": "python",
   "name": "python3"
  },
  "language_info": {
   "codemirror_mode": {
    "name": "ipython",
    "version": 3
   },
   "file_extension": ".py",
   "mimetype": "text/x-python",
   "name": "python",
   "nbconvert_exporter": "python",
   "pygments_lexer": "ipython3",
   "version": "3.12.1"
  }
 },
 "nbformat": 4,
 "nbformat_minor": 4
}
