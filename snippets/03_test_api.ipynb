{
 "cells": [
  {
   "cell_type": "markdown",
   "metadata": {},
   "source": [
    "# Notebook 3: Test the API\n",
    "\n",
    "This notebook tests the REST API endpoints.\n",
    "\n",
    "**IMPORTANT**: The API server must be running! Open a terminal and run:\n",
    "```bash\n",
    "source venv/bin/activate\n",
    "python -m src.api.main\n",
    "```"
   ]
  },
  {
   "cell_type": "markdown",
   "metadata": {},
   "source": [
    "## Setup"
   ]
  },
  {
   "cell_type": "code",
   "execution_count": null,
   "metadata": {},
   "outputs": [],
   "source": [
    "import requests\n",
    "import json\n",
    "import time\n",
    "from pathlib import Path\n",
    "\n",
    "# API base URL\n",
    "API_URL = \"http://localhost:8000\"\n",
    "\n",
    "print(f\"API URL: {API_URL}\")\n",
    "print(\"\\nMake sure the server is running!\")\n",
    "print(\"  Terminal command: python -m src.api.main\")"
   ]
  },
  {
   "cell_type": "markdown",
   "metadata": {},
   "source": [
    "## Test 1: Health Check\n",
    "\n",
    "First, verify the server is running."
   ]
  },
  {
   "cell_type": "code",
   "execution_count": null,
   "metadata": {},
   "outputs": [],
   "source": [
    "try:\n",
    "    response = requests.get(f\"{API_URL}/health\", timeout=5)\n",
    "    \n",
    "    if response.status_code == 200:\n",
    "        print(\"✅ Server is running!\\n\")\n",
    "        print(json.dumps(response.json(), indent=2))\n",
    "    else:\n",
    "        print(f\"⚠️  Server responded with status {response.status_code}\")\n",
    "        \n",
    "except requests.exceptions.ConnectionError:\n",
    "    print(\"❌ Cannot connect to server!\")\n",
    "    print(\"\\nMake sure the server is running:\")\n",
    "    print(\"  1. Open a terminal\")\n",
    "    print(\"  2. Run: source venv/bin/activate\")\n",
    "    print(\"  3. Run: python -m src.api.main\")\n",
    "except Exception as e:\n",
    "    print(f\"❌ Error: {e}\")"
   ]
  },
  {
   "cell_type": "markdown",
   "metadata": {},
   "source": [
    "## Test 2: Version Endpoint"
   ]
  },
  {
   "cell_type": "code",
   "execution_count": null,
   "metadata": {},
   "outputs": [],
   "source": [
    "response = requests.get(f\"{API_URL}/version\")\n",
    "\n",
    "print(\"Version info:\\n\")\n",
    "print(json.dumps(response.json(), indent=2))"
   ]
  },
  {
   "cell_type": "markdown",
   "metadata": {},
   "source": [
    "## Test 3: Create a Test File\n",
    "\n",
    "Let's create a simple Excel file to test with."
   ]
  },
  {
   "cell_type": "code",
   "execution_count": null,
   "metadata": {},
   "outputs": [],
   "source": [
    "from openpyxl import Workbook\n",
    "\n",
    "# Create test file\n",
    "wb = Workbook()\n",
    "ws = wb.active\n",
    "ws.title = \"Test Sheet\"\n",
    "\n",
    "# Add some data\n",
    "ws['A1'] = 'Item'\n",
    "ws['B1'] = 'Value'\n",
    "ws['A2'] = 'Alpha'\n",
    "ws['B2'] = 100\n",
    "ws['A3'] = 'Beta'\n",
    "ws['B3'] = 200\n",
    "ws['A4'] = 'Total'\n",
    "ws['B4'] = '=SUM(B2:B3)'\n",
    "\n",
    "test_file = Path('/workspaces/excel-differ/tmp/api_test.xlsx')\n",
    "wb.save(test_file)\n",
    "\n",
    "print(f\"✅ Created test file: {test_file}\")\n",
    "print(f\"   Size: {test_file.stat().st_size} bytes\")"
   ]
  },
  {
   "cell_type": "markdown",
   "metadata": {},
   "source": [
    "## Test 4: POST /api/v1/flatten\n",
    "\n",
    "Submit a file to be flattened."
   ]
  },
  {
   "cell_type": "code",
   "execution_count": null,
   "metadata": {},
   "outputs": [],
   "source": [
    "print(\"Uploading file to /api/v1/flatten...\\n\")\n",
    "\n",
    "with open(test_file, 'rb') as f:\n",
    "    files = {\n",
    "        'file': ('test.xlsx', f, 'application/vnd.openxmlformats-officedocument.spreadsheetml.sheet')\n",
    "    }\n",
    "    \n",
    "    response = requests.post(f\"{API_URL}/api/v1/flatten\", files=files)\n",
    "\n",
    "if response.status_code == 202:\n",
    "    result = response.json()\n",
    "    job_id = result['job_id']\n",
    "    \n",
    "    print(\"✅ Job submitted!\\n\")\n",
    "    print(f\"Job ID: {job_id}\")\n",
    "    print(f\"Status: {result['status']}\")\n",
    "    \n",
    "    # Save job_id for next cells\n",
    "    flatten_job_id = job_id\n",
    "    \n",
    "else:\n",
    "    print(f\"❌ Request failed: {response.status_code}\")\n",
    "    print(response.text)\n",
    "    flatten_job_id = None"
   ]
  },
  {
   "cell_type": "markdown",
   "metadata": {},
   "source": [
    "## Test 5: Poll for Job Status\n",
    "\n",
    "Check if the job is complete."
   ]
  },
  {
   "cell_type": "code",
   "execution_count": null,
   "metadata": {},
   "outputs": [],
   "source": [
    "if flatten_job_id:\n",
    "    print(f\"Polling job {flatten_job_id}...\\n\")\n",
    "    \n",
    "    for i in range(30):  # Try for 30 seconds\n",
    "        time.sleep(1)\n",
    "        \n",
    "        response = requests.get(f\"{API_URL}/api/v1/jobs/{flatten_job_id}\")\n",
    "        job_data = response.json()\n",
    "        \n",
    "        status = job_data['status']\n",
    "        print(f\"[{i+1}] Status: {status}\", end=\"\\r\")\n",
    "        \n",
    "        if status == 'success':\n",
    "            print(\"\\n\\n✅ Job completed successfully!\\n\")\n",
    "            print(\"Result:\")\n",
    "            print(json.dumps(job_data['result'], indent=2))\n",
    "            break\n",
    "            \n",
    "        elif status == 'failed':\n",
    "            print(\"\\n\\n❌ Job failed!\\n\")\n",
    "            print(f\"Error: {job_data.get('error')}\")\n",
    "            break\n",
    "    \n",
    "    else:\n",
    "        print(\"\\n\\n⚠️  Job still running after 30 seconds\")\n",
    "        print(\"Check status manually:\")  \n",
    "        print(f\"  curl {API_URL}/api/v1/jobs/{flatten_job_id}\")\n",
    "else:\n",
    "    print(\"⚠️  No job_id from previous step\")"
   ]
  },
  {
   "cell_type": "markdown",
   "metadata": {},
   "source": [
    "## Test 6: Compare Two Files\n",
    "\n",
    "Let's create a modified version and compare them."
   ]
  },
  {
   "cell_type": "code",
   "execution_count": null,
   "metadata": {},
   "outputs": [],
   "source": [
    "# Create modified version\n",
    "from openpyxl import load_workbook\n",
    "\n",
    "wb = load_workbook(test_file)\n",
    "ws = wb.active\n",
    "\n",
    "# Change a value\n",
    "ws['B2'] = 150  # Changed from 100\n",
    "\n",
    "# Add a new row\n",
    "ws['A5'] = 'Gamma'\n",
    "ws['B5'] = 300\n",
    "\n",
    "# Update formula\n",
    "ws['B4'] = '=SUM(B2:B5)'\n",
    "\n",
    "test_file_v2 = Path('/workspaces/excel-differ/tmp/api_test_v2.xlsx')\n",
    "wb.save(test_file_v2)\n",
    "\n",
    "print(f\"✅ Created modified version: {test_file_v2}\")\n",
    "print(\"\\nChanges:\")\n",
    "print(\"  - Alpha value: 100 → 150\")\n",
    "print(\"  - Added Gamma: 300\")\n",
    "print(\"  - Updated SUM formula\")"
   ]
  },
  {
   "cell_type": "markdown",
   "metadata": {},
   "source": [
    "## Test 7: POST /api/v1/compare"
   ]
  },
  {
   "cell_type": "code",
   "execution_count": null,
   "metadata": {},
   "outputs": [],
   "source": [
    "print(\"Uploading both files to /api/v1/compare...\\n\")\n",
    "\n",
    "with open(test_file, 'rb') as f1, open(test_file_v2, 'rb') as f2:\n",
    "    files = {\n",
    "        'file_a': ('test_v1.xlsx', f1, 'application/vnd.openxmlformats-officedocument.spreadsheetml.sheet'),\n",
    "        'file_b': ('test_v2.xlsx', f2, 'application/vnd.openxmlformats-officedocument.spreadsheetml.sheet'),\n",
    "    }\n",
    "    \n",
    "    response = requests.post(f\"{API_URL}/api/v1/compare\", files=files)\n",
    "\n",
    "if response.status_code == 202:\n",
    "    result = response.json()\n",
    "    compare_job_id = result['job_id']\n",
    "    \n",
    "    print(\"✅ Comparison job submitted!\\n\")\n",
    "    print(f\"Job ID: {compare_job_id}\")\n",
    "    \n",
    "else:\n",
    "    print(f\"❌ Request failed: {response.status_code}\")\n",
    "    print(response.text)\n",
    "    compare_job_id = None"
   ]
  },
  {
   "cell_type": "markdown",
   "metadata": {},
   "source": [
    "## Test 8: Get Comparison Results"
   ]
  },
  {
   "cell_type": "code",
   "execution_count": null,
   "metadata": {},
   "outputs": [],
   "source": [
    "if compare_job_id:\n",
    "    print(f\"Polling comparison job {compare_job_id}...\\n\")\n",
    "    \n",
    "    for i in range(30):\n",
    "        time.sleep(1)\n",
    "        \n",
    "        response = requests.get(f\"{API_URL}/api/v1/jobs/{compare_job_id}\")\n",
    "        job_data = response.json()\n",
    "        \n",
    "        status = job_data['status']\n",
    "        print(f\"[{i+1}] Status: {status}\", end=\"\\r\")\n",
    "        \n",
    "        if status == 'success':\n",
    "            print(\"\\n\\n✅ Comparison completed!\\n\")\n",
    "            \n",
    "            result = job_data['result']\n",
    "            \n",
    "            # Show summary\n",
    "            print(\"Summary:\")\n",
    "            print(json.dumps(result['summary'], indent=2))\n",
    "            \n",
    "            # Show some changes\n",
    "            if 'diff_json' in result:\n",
    "                print(\"\\nChanges (first 10):\")\n",
    "                for change in result['diff_json'][:10]:\n",
    "                    print(json.dumps(change, indent=2))\n",
    "                    print(\"-\" * 50)\n",
    "            \n",
    "            break\n",
    "            \n",
    "        elif status == 'failed':\n",
    "            print(\"\\n\\n❌ Comparison failed!\\n\")\n",
    "            print(f\"Error: {job_data.get('error')}\")\n",
    "            break\n",
    "    \n",
    "    else:\n",
    "        print(\"\\n\\n⚠️  Job still running\")\n",
    "else:\n",
    "    print(\"⚠️  No job_id from previous step\")"
   ]
  },
  {
   "cell_type": "markdown",
   "metadata": {},
   "source": [
    "## Test 9: Test Error Handling\n",
    "\n",
    "Try uploading an invalid file to see error response."
   ]
  },
  {
   "cell_type": "code",
   "execution_count": null,
   "metadata": {},
   "outputs": [],
   "source": [
    "# Create a text file (not Excel)\n",
    "invalid_file = Path('/workspaces/excel-differ/tmp/not_excel.txt')\n",
    "invalid_file.write_text('This is not an Excel file')\n",
    "\n",
    "print(\"Testing error handling with invalid file...\\n\")\n",
    "\n",
    "with open(invalid_file, 'rb') as f:\n",
    "    files = {'file': ('test.txt', f, 'text/plain')}\n",
    "    response = requests.post(f\"{API_URL}/api/v1/flatten\", files=files)\n",
    "\n",
    "print(f\"Status code: {response.status_code}\")\n",
    "\n",
    "if response.status_code == 202:\n",
    "    # Job was accepted (might fail later)\n",
    "    job_id = response.json()['job_id']\n",
    "    print(f\"Job accepted: {job_id}\")\n",
    "    print(\"Waiting for it to fail...\\n\")\n",
    "    \n",
    "    time.sleep(2)\n",
    "    \n",
    "    response = requests.get(f\"{API_URL}/api/v1/jobs/{job_id}\")\n",
    "    job_data = response.json()\n",
    "    \n",
    "    if job_data['status'] == 'failed':\n",
    "        print(\"✅ Job failed as expected!\")\n",
    "        print(f\"Error: {job_data.get('error')}\")\n",
    "else:\n",
    "    print(f\"Response: {response.text}\")"
   ]
  },
  {
   "cell_type": "markdown",
   "metadata": {},
   "source": [
    "## Test 10: Explore the Interactive Docs\n",
    "\n",
    "The API has auto-generated interactive documentation!"
   ]
  },
  {
   "cell_type": "code",
   "execution_count": null,
   "metadata": {},
   "outputs": [],
   "source": [
    "from IPython.display import IFrame\n",
    "\n",
    "print(\"Opening interactive API documentation...\\n\")\n",
    "print(\"You can also open in browser:\")\n",
    "print(f\"  Swagger UI: {API_URL}/docs\")\n",
    "print(f\"  ReDoc: {API_URL}/redoc\")\n",
    "print(\"\\nThe interactive docs let you test all endpoints with a UI!\")\n",
    "\n",
    "# Display in notebook (if running in Jupyter)\n",
    "IFrame(f\"{API_URL}/docs\", width=1000, height=600)"
   ]
  },
  {
   "cell_type": "markdown",
   "metadata": {},
   "source": [
    "## ✅ API Testing Complete!\n",
    "\n",
    "**What you tested:**\n",
    "1. ✅ Health check endpoint\n",
    "2. ✅ Version endpoint\n",
    "3. ✅ POST /api/v1/flatten (async job submission)\n",
    "4. ✅ GET /api/v1/jobs/{job_id} (job status polling)\n",
    "5. ✅ POST /api/v1/compare (file comparison)\n",
    "6. ✅ Error handling\n",
    "7. ✅ Interactive API docs\n",
    "\n",
    "**Next steps:**\n",
    "- Explore the Swagger UI at http://localhost:8000/docs\n",
    "- Try the `/extract` endpoint (commits to git)\n",
    "- Integrate with your own workflow\n",
    "- Read the code to understand how it all works!"
   ]
  }
 ],
 "metadata": {
  "kernelspec": {
   "display_name": "venv (3.12.1)",
   "language": "python",
   "name": "python3"
  },
  "language_info": {
   "codemirror_mode": {
    "name": "ipython",
    "version": 3
   },
   "file_extension": ".py",
   "mimetype": "text/x-python",
   "name": "python",
   "nbconvert_exporter": "python",
   "pygments_lexer": "ipython3",
   "version": "3.12.1"
  }
 },
 "nbformat": 4,
 "nbformat_minor": 4
}
