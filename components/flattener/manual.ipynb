{
 "cells": [
  {
   "cell_type": "markdown",
   "metadata": {},
   "source": [
    "# Excel Flattener - Interactive Manual\n",
    "\n",
    "Quick interactive guide to flatten Excel files.\n",
    "\n",
    "**Usage**: Edit Section 1 with your settings, then run all cells."
   ]
  },
  {
   "cell_type": "markdown",
   "metadata": {},
   "source": [
    "---\n",
    "## Section 1: Configuration\n",
    "\n",
    "**Edit these variables before running**"
   ]
  },
  {
   "cell_type": "code",
   "execution_count": null,
   "metadata": {},
   "outputs": [],
   "source": [
    "# =============================================================================\n",
    "# CONFIGURATION - Edit these variables\n",
    "# =============================================================================\n",
    "\n",
    "# Input Excel file to flatten (required)\n",
    "EXCEL_FILE = \"./snippets/sample.xlsx\"\n",
    "\n",
    "# Output directory (default: ./tmp/flats)\n",
    "OUTPUT_DIR = \"./tmp/flats\"\n",
    "\n",
    "# What to extract (True/False)\n",
    "INCLUDE_COMPUTED = True    # Extract computed values (formula results)\n",
    "INCLUDE_LITERAL = True     # Extract literal values (hardcoded values)\n",
    "INCLUDE_FORMATS = True     # Extract cell formatting\n",
    "\n",
    "# Logging level: DEBUG, INFO, WARNING, ERROR\n",
    "LOG_LEVEL = \"INFO\"\n",
    "\n",
    "# Log directory (default: ./tmp/logs)\n",
    "LOG_DIR = \"./tmp/logs\"\n",
    "\n",
    "# Timeout in seconds (default: 900 = 15 minutes)\n",
    "TIMEOUT = 900\n",
    "\n",
    "# Maximum file size in MB (default: 200)\n",
    "MAX_FILE_SIZE_MB = 200\n",
    "\n",
    "# Git origin metadata (optional - for traceability)\n",
    "ORIGIN_REPO = \"https://github.com/user/repo\"  # Or None\n",
    "ORIGIN_PATH = \"data/workbook.xlsx\"            # Or None\n",
    "ORIGIN_COMMIT = \"abc123\"                      # Or None\n",
    "ORIGIN_COMMIT_MESSAGE = \"Updated data\"        # Or None"
   ]
  },
  {
   "cell_type": "markdown",
   "metadata": {},
   "source": [
    "---\n",
    "## Section 2: Imports & Setup\n",
    "\n",
    "**Run this cell to import modules and configure logging**"
   ]
  },
  {
   "cell_type": "code",
   "execution_count": null,
   "metadata": {},
   "outputs": [],
   "source": [
    "# Import required modules\n",
    "from pathlib import Path\n",
    "from src import Flattener, setup_logging\n",
    "\n",
    "# Setup logging\n",
    "setup_logging(log_level=LOG_LEVEL, log_dir=LOG_DIR, component='manual')\n",
    "\n",
    "print(\"✓ Imports complete\")\n",
    "print(f\"✓ Excel file: {EXCEL_FILE}\")\n",
    "print(f\"✓ Output directory: {OUTPUT_DIR}\")\n",
    "print(f\"✓ Include computed: {INCLUDE_COMPUTED}\")\n",
    "print(f\"✓ Include literal: {INCLUDE_LITERAL}\")\n",
    "print(f\"✓ Include formats: {INCLUDE_FORMATS}\")"
   ]
  },
  {
   "cell_type": "markdown",
   "metadata": {},
   "source": [
    "---\n",
    "## Section 3: Flatten\n",
    "\n",
    "**Run this cell to flatten the Excel file**"
   ]
  },
  {
   "cell_type": "code",
   "execution_count": null,
   "metadata": {},
   "outputs": [],
   "source": [
    "# Create flattener instance\n",
    "flattener = Flattener(\n",
    "    output_dir=Path(OUTPUT_DIR),\n",
    "    include_computed=INCLUDE_COMPUTED,\n",
    "    include_literal=INCLUDE_LITERAL,\n",
    "    include_formats=INCLUDE_FORMATS,\n",
    "    timeout=TIMEOUT,\n",
    "    max_file_size_mb=MAX_FILE_SIZE_MB\n",
    ")\n",
    "\n",
    "print(\"✓ Flattener created\\n\")\n",
    "\n",
    "# Flatten the workbook\n",
    "try:\n",
    "    flat_root = flattener.flatten(\n",
    "        excel_file=Path(EXCEL_FILE),\n",
    "        origin_repo=ORIGIN_REPO,\n",
    "        origin_path=ORIGIN_PATH,\n",
    "        origin_commit=ORIGIN_COMMIT,\n",
    "        origin_commit_message=ORIGIN_COMMIT_MESSAGE\n",
    "    )\n",
    "    \n",
    "    print(f\"\\n✓ Flattening complete!\")\n",
    "    print(f\"  Output: {flat_root}\")\n",
    "    print(f\"\\nNext steps:\")\n",
    "    print(f\"  - View output: tree {flat_root} -L 2\")\n",
    "    print(f\"  - Check manifest: cat {flat_root}/manifest.json\")\n",
    "    print(f\"  - View logs: ls -la {LOG_DIR}/\")\n",
    "    \n",
    "except Exception as e:\n",
    "    print(f\"\\n✗ Flattening failed: {e}\")\n",
    "    raise"
   ]
  },
  {
   "cell_type": "code",
   "execution_count": null,
   "metadata": {},
   "outputs": [],
   "source": []
  }
 ],
 "metadata": {
  "kernelspec": {
   "display_name": "Python 3",
   "language": "python",
   "name": "python3"
  },
  "language_info": {
   "codemirror_mode": {
    "name": "ipython",
    "version": 3
   },
   "file_extension": ".py",
   "mimetype": "text/x-python",
   "name": "python",
   "nbconvert_exporter": "python",
   "pygments_lexer": "ipython3",
   "version": "3.12.1"
  }
 },
 "nbformat": 4,
 "nbformat_minor": 2
}
